{
 "cells": [
  {
   "cell_type": "markdown",
   "metadata": {},
   "source": [
    "# kaggle competition report"
   ]
  },
  {
   "cell_type": "markdown",
   "metadata": {},
   "source": [
    "#### 在這次作業的競賽中，我嘗試了許多方法來得到比較好的結果，接下來我會一一對其介紹，主要會分為\n",
    "1. Naive bayes(兩種encode方法) \n",
    "2. LSTM \n",
    "3. MLPClassfier \n",
    "4. MLPReggressor \n",
    "5. 其他嘗試"
   ]
  },
  {
   "cell_type": "markdown",
   "metadata": {},
   "source": [
    "## 1.Naive bayes"
   ]
  },
  {
   "cell_type": "markdown",
   "metadata": {},
   "source": [
    "一開始我們必須對資料做一些前處理，所以這一步驟我們先讀入檔案"
   ]
  },
  {
   "cell_type": "code",
   "execution_count": 75,
   "metadata": {},
   "outputs": [],
   "source": [
    "import pandas as pd\n",
    "import json\n",
    "import numpy as np\n",
    "\n",
    "# 定義一個函數來讀取 JSON 檔案\n",
    "id_list=[]\n",
    "text_list=[]\n",
    "score_list=[]\n",
    "with open('tweets_DM.json') as f:\n",
    "    into_list=f.readlines()\n",
    "    for data_json in into_list:\n",
    "        data=json.loads(data_json)\n",
    "        score_list.append(data['_score'])\n",
    "        id_list.append(data['_source']['tweet']['tweet_id'])\n",
    "        text_list.append(data['_source']['tweet']['text'])\n",
    "data_tweet={\"tweet_id\":id_list,\"text\":text_list,\"score\":score_list}\n",
    "df_all=pd.DataFrame(data_tweet)\n",
    "\n",
    "# 讀取檔案\n",
    "emotion = pd.read_csv('emotion.csv')\n",
    "data_identification = pd.read_csv('data_identification.csv')"
   ]
  },
  {
   "cell_type": "markdown",
   "metadata": {},
   "source": [
    "將資料merge在一起，方便後續處理"
   ]
  },
  {
   "cell_type": "code",
   "execution_count": 77,
   "metadata": {},
   "outputs": [
    {
     "name": "stdout",
     "output_type": "stream",
     "text": [
      "   tweet_id                                               text     score  \\\n",
      "0  0x376b20  People who post \"add me on #Snapchat\" must be ...  0.381232   \n",
      "1  0x2d5350  @brianklaas As we see, Trump is dangerous to #...  0.422287   \n",
      "2  0x28b412  Confident of your obedience, I write to you, k...  0.225806   \n",
      "3  0x1cd5b0                Now ISSA is stalking Tasha 😂😂😂 <LH>  0.366569   \n",
      "4  0x2de201  \"Trust is not the same as faith. A friend is s...  0.965787   \n",
      "\n",
      "  identification       emotion  \n",
      "0          train  anticipation  \n",
      "1          train       sadness  \n",
      "2           test           NaN  \n",
      "3          train          fear  \n",
      "4           test           NaN  \n"
     ]
    }
   ],
   "source": [
    "df_all=pd.merge(df_all,data_identification,on='tweet_id',how='outer')\n",
    "df_all= pd.merge(df_all,emotion,on='tweet_id',how= 'outer')\n",
    "print(df_all.head())"
   ]
  },
  {
   "cell_type": "markdown",
   "metadata": {},
   "source": [
    "對我們的text做一些前處理，像是移除特殊符號及停用詞還有做了類似 stemming 的概念，最後將文本重新組合"
   ]
  },
  {
   "cell_type": "code",
   "execution_count": 13,
   "metadata": {},
   "outputs": [
    {
     "name": "stderr",
     "output_type": "stream",
     "text": [
      "[nltk_data] Downloading package wordnet to\n",
      "[nltk_data]     C:\\Users\\nick2\\AppData\\Roaming\\nltk_data...\n",
      "[nltk_data] Downloading package stopwords to\n",
      "[nltk_data]     C:\\Users\\nick2\\AppData\\Roaming\\nltk_data...\n",
      "[nltk_data]   Package stopwords is already up-to-date!\n"
     ]
    }
   ],
   "source": [
    "import nltk\n",
    "from nltk.corpus import stopwords\n",
    "import regex as re\n",
    "from nltk.stem import WordNetLemmatizer\n",
    "nltk.download('wordnet')\n",
    "nltk.download('stopwords')\n",
    "stopwords.words('english')\n",
    "lemmmatizer=WordNetLemmatizer()\n",
    "clean_txt=[]\n",
    "\n",
    "for text in list(df_all['text']):\n",
    "    text=re.sub('[<LH>\"\\'.,]','',text)\n",
    "    text=re.sub('@\\\\w+ *','',text)\n",
    "    text=text.lower()\n",
    "    text = text.split()\n",
    "    text = [lemmmatizer.lemmatize(word) for word in text if not word in set(stopwords.words('english'))]\n",
    "    text = ' '.join(text)\n",
    "    clean_txt.append(text)\n",
    "df_all['text']=clean_txt"
   ]
  },
  {
   "cell_type": "markdown",
   "metadata": {},
   "source": [
    "接著我發現分數這一行的數值很大，所以對其進行正規化(雖然之後沒有使用到這個feature XD)，再將整理好的資料儲存起來，之後就能隨時呼叫"
   ]
  },
  {
   "cell_type": "code",
   "execution_count": 15,
   "metadata": {},
   "outputs": [],
   "source": [
    "def minmax_norm(df_input):\n",
    "    return (df_input - df_input.min()) / (df_input.max() - df_input.min())\n",
    "df_all[\"score\"] = minmax_norm(df_all[\"score\"])\n",
    "df_all.to_csv('kaggle_data_preprocess.csv')"
   ]
  },
  {
   "cell_type": "markdown",
   "metadata": {},
   "source": [
    "## 前面是前處理，正常從這邊開始執行"
   ]
  },
  {
   "cell_type": "markdown",
   "metadata": {},
   "source": [
    "先讀入已經處理好的資料文本，並刪除一些空白的資訊"
   ]
  },
  {
   "cell_type": "code",
   "execution_count": 64,
   "metadata": {},
   "outputs": [
    {
     "data": {
      "text/html": [
       "<div>\n",
       "<style scoped>\n",
       "    .dataframe tbody tr th:only-of-type {\n",
       "        vertical-align: middle;\n",
       "    }\n",
       "\n",
       "    .dataframe tbody tr th {\n",
       "        vertical-align: top;\n",
       "    }\n",
       "\n",
       "    .dataframe thead th {\n",
       "        text-align: right;\n",
       "    }\n",
       "</style>\n",
       "<table border=\"1\" class=\"dataframe\">\n",
       "  <thead>\n",
       "    <tr style=\"text-align: right;\">\n",
       "      <th></th>\n",
       "      <th>tweet_id</th>\n",
       "      <th>text</th>\n",
       "      <th>score</th>\n",
       "      <th>identification_x</th>\n",
       "      <th>emotion_x</th>\n",
       "      <th>identification_y</th>\n",
       "      <th>emotion_y</th>\n",
       "    </tr>\n",
       "  </thead>\n",
       "  <tbody>\n",
       "    <tr>\n",
       "      <th>0</th>\n",
       "      <td>0x376b20</td>\n",
       "      <td>people post add #snapchat must dehydrated cuz ...</td>\n",
       "      <td>0.381232</td>\n",
       "      <td>train</td>\n",
       "      <td>anticipation</td>\n",
       "      <td>train</td>\n",
       "      <td>anticipation</td>\n",
       "    </tr>\n",
       "    <tr>\n",
       "      <th>1</th>\n",
       "      <td>0x2d5350</td>\n",
       "      <td>see trump dangerous #freepress around world #t...</td>\n",
       "      <td>0.422287</td>\n",
       "      <td>train</td>\n",
       "      <td>sadness</td>\n",
       "      <td>train</td>\n",
       "      <td>sadness</td>\n",
       "    </tr>\n",
       "    <tr>\n",
       "      <th>2</th>\n",
       "      <td>0x28b412</td>\n",
       "      <td>confident obedience write knowing even ask (ph...</td>\n",
       "      <td>0.225806</td>\n",
       "      <td>test</td>\n",
       "      <td>NaN</td>\n",
       "      <td>test</td>\n",
       "      <td>NaN</td>\n",
       "    </tr>\n",
       "    <tr>\n",
       "      <th>3</th>\n",
       "      <td>0x1cd5b0</td>\n",
       "      <td>issa stalking tasha 😂😂😂</td>\n",
       "      <td>0.366569</td>\n",
       "      <td>train</td>\n",
       "      <td>fear</td>\n",
       "      <td>train</td>\n",
       "      <td>fear</td>\n",
       "    </tr>\n",
       "    <tr>\n",
       "      <th>4</th>\n",
       "      <td>0x2de201</td>\n",
       "      <td>trust faith friend someone trust putting faith...</td>\n",
       "      <td>0.965787</td>\n",
       "      <td>test</td>\n",
       "      <td>NaN</td>\n",
       "      <td>test</td>\n",
       "      <td>NaN</td>\n",
       "    </tr>\n",
       "  </tbody>\n",
       "</table>\n",
       "</div>"
      ],
      "text/plain": [
       "   tweet_id                                               text     score  \\\n",
       "0  0x376b20  people post add #snapchat must dehydrated cuz ...  0.381232   \n",
       "1  0x2d5350  see trump dangerous #freepress around world #t...  0.422287   \n",
       "2  0x28b412  confident obedience write knowing even ask (ph...  0.225806   \n",
       "3  0x1cd5b0                            issa stalking tasha 😂😂😂  0.366569   \n",
       "4  0x2de201  trust faith friend someone trust putting faith...  0.965787   \n",
       "\n",
       "  identification_x     emotion_x identification_y     emotion_y  \n",
       "0            train  anticipation            train  anticipation  \n",
       "1            train       sadness            train       sadness  \n",
       "2             test           NaN             test           NaN  \n",
       "3            train          fear            train          fear  \n",
       "4             test           NaN             test           NaN  "
      ]
     },
     "execution_count": 64,
     "metadata": {},
     "output_type": "execute_result"
    }
   ],
   "source": [
    "import pandas as pd\n",
    "df_all=pd.read_csv('kaggle_data_preprocess.csv')\n",
    "df_all.drop(['Unnamed: 0'],axis=1,inplace=True)\n",
    "df_all.head()"
   ]
  },
  {
   "cell_type": "markdown",
   "metadata": {},
   "source": [
    "根據 identification 的類別，將資料分為 train 跟 test，並清理掉一些 text 為空白的資訊"
   ]
  },
  {
   "cell_type": "code",
   "execution_count": 65,
   "metadata": {},
   "outputs": [
    {
     "name": "stdout",
     "output_type": "stream",
     "text": [
      "(1455563, 7)\n",
      "(411972, 7)\n",
      "(1452595, 7)\n",
      "(411953, 7)\n"
     ]
    }
   ],
   "source": [
    "train_data = df_all[df_all['identification_y'] == 'train']\n",
    "test_data = df_all[df_all['identification_y'] == 'test']\n",
    "print(train_data.shape)\n",
    "print(test_data.shape)\n",
    "train_data=train_data.dropna(subset=[\"text\"])\n",
    "test_data=test_data.dropna(subset=['text'])\n",
    "print(train_data.shape)\n",
    "print(test_data.shape)"
   ]
  },
  {
   "cell_type": "markdown",
   "metadata": {},
   "source": [
    "使用上課所教的 TFIDF 技術，創建一個 TF-IDF 向量化器，指定最大特徵數為 25000，並使用 NLTK 的 word_tokenize 函數進行分詞"
   ]
  },
  {
   "cell_type": "markdown",
   "metadata": {},
   "source": [
    "這一部分非常重要，將文本轉為數值，方便我們之後進行訓練"
   ]
  },
  {
   "cell_type": "code",
   "execution_count": 66,
   "metadata": {},
   "outputs": [
    {
     "name": "stderr",
     "output_type": "stream",
     "text": [
      "[nltk_data] Downloading package punkt to\n",
      "[nltk_data]     C:\\Users\\nick2\\AppData\\Roaming\\nltk_data...\n",
      "[nltk_data]   Package punkt is already up-to-date!\n",
      "c:\\Users\\nick2\\anaconda3\\Lib\\site-packages\\sklearn\\feature_extraction\\text.py:525: UserWarning: The parameter 'token_pattern' will not be used since 'tokenizer' is not None'\n",
      "  warnings.warn(\n"
     ]
    }
   ],
   "source": [
    "import nltk\n",
    "from sklearn.feature_extraction.text import TfidfVectorizer\n",
    "nltk.download('punkt')\n",
    "df_all_not_na = df_all.dropna(subset=[\"text\"])\n",
    "vectorizer_2 = TfidfVectorizer(max_features=25000,tokenizer=nltk.word_tokenize)\n",
    "tf_idf_all_2 = vectorizer_2.fit(df_all_not_na['text'])\n",
    "X_train = tf_idf_all_2.transform(train_data['text'])\n",
    "y_train = train_data['emotion_y']\n",
    "\n",
    "X_test = tf_idf_all_2.transform(test_data['text'])\n",
    "y_test = test_data['emotion_y']"
   ]
  },
  {
   "cell_type": "code",
   "execution_count": 4,
   "metadata": {},
   "outputs": [
    {
     "name": "stdout",
     "output_type": "stream",
     "text": [
      "X_train.shape:  (1452595, 20000)\n",
      "y_train.shape:  (1452595,)\n",
      "X_test.shape:  (411953, 20000)\n",
      "y_test.shape:  (411953,)\n"
     ]
    }
   ],
   "source": [
    "print('X_train.shape: ', X_train.shape)\n",
    "print('y_train.shape: ', y_train.shape)\n",
    "print('X_test.shape: ', X_test.shape)\n",
    "print('y_test.shape: ', y_test.shape)"
   ]
  },
  {
   "cell_type": "markdown",
   "metadata": {},
   "source": [
    "將向量化之後的資料儲存起來，方便下次免去前面處理的步驟"
   ]
  },
  {
   "cell_type": "code",
   "execution_count": 67,
   "metadata": {},
   "outputs": [],
   "source": [
    "from scipy import sparse\n",
    "\n",
    "sparse.save_npz(\"data/X_train.npz\", X_train)\n",
    "sparse.save_npz(\"data/X_test.npz\", X_test)"
   ]
  },
  {
   "cell_type": "markdown",
   "metadata": {},
   "source": [
    "## 訓練從這開始"
   ]
  },
  {
   "cell_type": "markdown",
   "metadata": {},
   "source": [
    "重新呼叫之前處理好的數據"
   ]
  },
  {
   "cell_type": "code",
   "execution_count": 78,
   "metadata": {},
   "outputs": [
    {
     "name": "stdout",
     "output_type": "stream",
     "text": [
      "         Unnamed: 0  tweet_id  \\\n",
      "0                 0  0x376b20   \n",
      "1                 1  0x2d5350   \n",
      "2                 2  0x28b412   \n",
      "3                 3  0x1cd5b0   \n",
      "4                 4  0x2de201   \n",
      "...             ...       ...   \n",
      "1867530     1867530  0x316b80   \n",
      "1867531     1867531  0x29d0cb   \n",
      "1867532     1867532  0x2a6a4f   \n",
      "1867533     1867533  0x24faed   \n",
      "1867534     1867534  0x34be8c   \n",
      "\n",
      "                                                      text     score  \\\n",
      "0        people post add #snapchat must dehydrated cuz ...  0.381232   \n",
      "1        see trump dangerous #freepress around world #t...  0.422287   \n",
      "2        confident obedience write knowing even ask (ph...  0.225806   \n",
      "3                                  issa stalking tasha 😂😂😂  0.366569   \n",
      "4        trust faith friend someone trust putting faith...  0.965787   \n",
      "...                                                    ...       ...   \n",
      "1867530  buy last 2 ticket remaining show sell #mixedfe...  0.807429   \n",
      "1867531                swear hard work gone pay one day😈💰💸  0.358749   \n",
      "1867532                    card left wasnt idea get parcel  0.485826   \n",
      "1867533  ah corporate life date using relative anachron...  0.820137   \n",
      "1867534                        blessed living #sundayvibes  0.350929   \n",
      "\n",
      "        identification_x     emotion_x identification_y     emotion_y  \n",
      "0                  train  anticipation            train  anticipation  \n",
      "1                  train       sadness            train       sadness  \n",
      "2                   test           NaN             test           NaN  \n",
      "3                  train          fear            train          fear  \n",
      "4                   test           NaN             test           NaN  \n",
      "...                  ...           ...              ...           ...  \n",
      "1867530             test           NaN             test           NaN  \n",
      "1867531             test           NaN             test           NaN  \n",
      "1867532             test           NaN             test           NaN  \n",
      "1867533            train           joy            train           joy  \n",
      "1867534            train           joy            train           joy  \n",
      "\n",
      "[1867535 rows x 8 columns]\n",
      "         tweet_id                                               text  \\\n",
      "0        0x376b20  people post add #snapchat must dehydrated cuz ...   \n",
      "1        0x2d5350  see trump dangerous #freepress around world #t...   \n",
      "2        0x28b412  confident obedience write knowing even ask (ph...   \n",
      "3        0x1cd5b0                            issa stalking tasha 😂😂😂   \n",
      "4        0x2de201  trust faith friend someone trust putting faith...   \n",
      "...           ...                                                ...   \n",
      "1867530  0x316b80  buy last 2 ticket remaining show sell #mixedfe...   \n",
      "1867531  0x29d0cb                swear hard work gone pay one day😈💰💸   \n",
      "1867532  0x2a6a4f                    card left wasnt idea get parcel   \n",
      "1867533  0x24faed  ah corporate life date using relative anachron...   \n",
      "1867534  0x34be8c                        blessed living #sundayvibes   \n",
      "\n",
      "            score identification_x     emotion_x identification_y  \\\n",
      "0        0.381232            train  anticipation            train   \n",
      "1        0.422287            train       sadness            train   \n",
      "2        0.225806             test           NaN             test   \n",
      "3        0.366569            train          fear            train   \n",
      "4        0.965787             test           NaN             test   \n",
      "...           ...              ...           ...              ...   \n",
      "1867530  0.807429             test           NaN             test   \n",
      "1867531  0.358749             test           NaN             test   \n",
      "1867532  0.485826             test           NaN             test   \n",
      "1867533  0.820137            train           joy            train   \n",
      "1867534  0.350929            train           joy            train   \n",
      "\n",
      "            emotion_y  \n",
      "0        anticipation  \n",
      "1             sadness  \n",
      "2                 NaN  \n",
      "3                fear  \n",
      "4                 NaN  \n",
      "...               ...  \n",
      "1867530           NaN  \n",
      "1867531           NaN  \n",
      "1867532           NaN  \n",
      "1867533           joy  \n",
      "1867534           joy  \n",
      "\n",
      "[1867535 rows x 7 columns]\n"
     ]
    }
   ],
   "source": [
    "from scipy import sparse\n",
    "import pandas as pd\n",
    "\n",
    "df_all=pd.read_csv('kaggle_data_preprocess.csv')\n",
    "\n",
    "df_all.drop(['Unnamed: 0'],axis=1,inplace=True)\n",
    "\n",
    "train_data = df_all[df_all['identification_y'] == 'train']\n",
    "test_data = df_all[df_all['identification_y'] == 'test']\n",
    "train_data=train_data.dropna(subset=[\"text\"])\n",
    "test_data=test_data.dropna(subset=['text'])\n",
    "\n",
    "X_train = train_data[['text']]\n",
    "y_train = train_data['emotion_y']\n",
    "\n",
    "X_test = test_data[['text']]\n",
    "y_test = test_data['emotion_y']"
   ]
  },
  {
   "cell_type": "markdown",
   "metadata": {},
   "source": [
    "# MultinomialNB"
   ]
  },
  {
   "cell_type": "markdown",
   "metadata": {},
   "source": [
    "這邊我用了一個基於多項式朴素貝葉斯的文本分類模型，並使用 TF-IDF 特徵進行訓練和預測。最後，透過分類報告評估模型在訓練集上的性能"
   ]
  },
  {
   "cell_type": "code",
   "execution_count": 69,
   "metadata": {},
   "outputs": [
    {
     "name": "stdout",
     "output_type": "stream",
     "text": [
      "              precision    recall  f1-score   support\n",
      "\n",
      "       anger       0.87      0.13      0.22     39817\n",
      "anticipation       0.65      0.46      0.54    248708\n",
      "     disgust       0.53      0.34      0.41    138764\n",
      "        fear       0.82      0.26      0.40     63921\n",
      "         joy       0.49      0.88      0.63    514581\n",
      "     sadness       0.50      0.44      0.47    193048\n",
      "    surprise       0.82      0.13      0.22     48642\n",
      "       trust       0.65      0.19      0.30    205114\n",
      "\n",
      "    accuracy                           0.53   1452595\n",
      "   macro avg       0.66      0.35      0.40   1452595\n",
      "weighted avg       0.58      0.53      0.49   1452595\n",
      "\n"
     ]
    }
   ],
   "source": [
    "from scipy import sparse\n",
    "X_train = sparse.load_npz(\"data/X_train.npz\")\n",
    "X_test = sparse.load_npz(\"data/X_test.npz\")\n",
    "\n",
    "# 呼叫模型\n",
    "from sklearn.naive_bayes import MultinomialNB\n",
    "clf = MultinomialNB()\n",
    "clf.fit(X_train, y_train) #進行訓練\n",
    "y_train_pred_NB=clf.predict(X_train)\n",
    "y_test_pred_NB=clf.predict(X_test)\n",
    "\n",
    "from sklearn.metrics import classification_report\n",
    "\n",
    "print(classification_report(y_true=y_train, y_pred=y_train_pred_NB))"
   ]
  },
  {
   "cell_type": "markdown",
   "metadata": {},
   "source": [
    "因為我們前面有刪除一些 text 為空白的資訊，所以我們的 submission 會少一些維度，所以這邊必須對其做一些處理"
   ]
  },
  {
   "cell_type": "code",
   "execution_count": 70,
   "metadata": {},
   "outputs": [],
   "source": [
    "df_test = df_all[df_all['identification_y'] == 'test'].dropna(subset=['text'])\n",
    "y_test_pred_NB=pd.DataFrame(y_test_pred_NB)\n",
    "y_submit=df_test.copy()\n",
    "y_submit['emotion_y']=list(y_test_pred_NB[0])\n",
    "y_submit.drop(labels=['text','score','identification_x','identification_y','emotion_x'],axis=1,inplace=True)\n",
    "y_submit.rename(columns={\"tweet_id\": \"id\"},inplace=True)"
   ]
  },
  {
   "cell_type": "code",
   "execution_count": 71,
   "metadata": {},
   "outputs": [
    {
     "data": {
      "text/html": [
       "<div>\n",
       "<style scoped>\n",
       "    .dataframe tbody tr th:only-of-type {\n",
       "        vertical-align: middle;\n",
       "    }\n",
       "\n",
       "    .dataframe tbody tr th {\n",
       "        vertical-align: top;\n",
       "    }\n",
       "\n",
       "    .dataframe thead th {\n",
       "        text-align: right;\n",
       "    }\n",
       "</style>\n",
       "<table border=\"1\" class=\"dataframe\">\n",
       "  <thead>\n",
       "    <tr style=\"text-align: right;\">\n",
       "      <th></th>\n",
       "      <th>tweet_id</th>\n",
       "      <th>text</th>\n",
       "      <th>emotion_y</th>\n",
       "    </tr>\n",
       "  </thead>\n",
       "  <tbody>\n",
       "    <tr>\n",
       "      <th>2</th>\n",
       "      <td>0x28b412</td>\n",
       "      <td>confident obedience write knowing even ask (ph...</td>\n",
       "      <td>NaN</td>\n",
       "    </tr>\n",
       "    <tr>\n",
       "      <th>4</th>\n",
       "      <td>0x2de201</td>\n",
       "      <td>trust faith friend someone trust putting faith...</td>\n",
       "      <td>NaN</td>\n",
       "    </tr>\n",
       "    <tr>\n",
       "      <th>9</th>\n",
       "      <td>0x218443</td>\n",
       "      <td>enough ? satisfied ? goal really money ? #mate...</td>\n",
       "      <td>NaN</td>\n",
       "    </tr>\n",
       "    <tr>\n",
       "      <th>30</th>\n",
       "      <td>0x2939d5</td>\n",
       "      <td>god woke chase day #godsplan #godswork</td>\n",
       "      <td>NaN</td>\n",
       "    </tr>\n",
       "    <tr>\n",
       "      <th>33</th>\n",
       "      <td>0x26289a</td>\n",
       "      <td>tough time turn symbol hope?</td>\n",
       "      <td>NaN</td>\n",
       "    </tr>\n",
       "    <tr>\n",
       "      <th>...</th>\n",
       "      <td>...</td>\n",
       "      <td>...</td>\n",
       "      <td>...</td>\n",
       "    </tr>\n",
       "    <tr>\n",
       "      <th>1867525</th>\n",
       "      <td>0x2913b4</td>\n",
       "      <td>message ye heard beginning love one another jo...</td>\n",
       "      <td>NaN</td>\n",
       "    </tr>\n",
       "    <tr>\n",
       "      <th>1867529</th>\n",
       "      <td>0x2a980e</td>\n",
       "      <td>lad hath five barley loaf two small fishes: am...</td>\n",
       "      <td>NaN</td>\n",
       "    </tr>\n",
       "    <tr>\n",
       "      <th>1867530</th>\n",
       "      <td>0x316b80</td>\n",
       "      <td>buy last 2 ticket remaining show sell #mixedfe...</td>\n",
       "      <td>NaN</td>\n",
       "    </tr>\n",
       "    <tr>\n",
       "      <th>1867531</th>\n",
       "      <td>0x29d0cb</td>\n",
       "      <td>swear hard work gone pay one day😈💰💸</td>\n",
       "      <td>NaN</td>\n",
       "    </tr>\n",
       "    <tr>\n",
       "      <th>1867532</th>\n",
       "      <td>0x2a6a4f</td>\n",
       "      <td>card left wasnt idea get parcel</td>\n",
       "      <td>NaN</td>\n",
       "    </tr>\n",
       "  </tbody>\n",
       "</table>\n",
       "<p>411972 rows × 3 columns</p>\n",
       "</div>"
      ],
      "text/plain": [
       "         tweet_id                                               text emotion_y\n",
       "2        0x28b412  confident obedience write knowing even ask (ph...       NaN\n",
       "4        0x2de201  trust faith friend someone trust putting faith...       NaN\n",
       "9        0x218443  enough ? satisfied ? goal really money ? #mate...       NaN\n",
       "30       0x2939d5             god woke chase day #godsplan #godswork       NaN\n",
       "33       0x26289a                       tough time turn symbol hope?       NaN\n",
       "...           ...                                                ...       ...\n",
       "1867525  0x2913b4  message ye heard beginning love one another jo...       NaN\n",
       "1867529  0x2a980e  lad hath five barley loaf two small fishes: am...       NaN\n",
       "1867530  0x316b80  buy last 2 ticket remaining show sell #mixedfe...       NaN\n",
       "1867531  0x29d0cb                swear hard work gone pay one day😈💰💸       NaN\n",
       "1867532  0x2a6a4f                    card left wasnt idea get parcel       NaN\n",
       "\n",
       "[411972 rows x 3 columns]"
      ]
     },
     "execution_count": 71,
     "metadata": {},
     "output_type": "execute_result"
    }
   ],
   "source": [
    "df_test = df_all[df_all['identification_y'] == 'test']\n",
    "del df_test['emotion_x']\n",
    "del df_test['score']\n",
    "del df_test['identification_y']\n",
    "del df_test['identification_x']\n",
    "df_test"
   ]
  },
  {
   "cell_type": "markdown",
   "metadata": {},
   "source": [
    "這邊我們將所有空白 text 的設定為 anticipation，並加入到我們的 submission 中"
   ]
  },
  {
   "cell_type": "code",
   "execution_count": 72,
   "metadata": {},
   "outputs": [],
   "source": [
    "add=df_test[df_test['text'].isna()].copy()\n",
    "add['emotion_y']='anticipation'\n",
    "add.rename(columns={'tweet_id':'id'},inplace=True)\n",
    "y_submit=pd.concat([y_submit,add])"
   ]
  },
  {
   "cell_type": "code",
   "execution_count": 73,
   "metadata": {},
   "outputs": [
    {
     "data": {
      "text/html": [
       "<div>\n",
       "<style scoped>\n",
       "    .dataframe tbody tr th:only-of-type {\n",
       "        vertical-align: middle;\n",
       "    }\n",
       "\n",
       "    .dataframe tbody tr th {\n",
       "        vertical-align: top;\n",
       "    }\n",
       "\n",
       "    .dataframe thead th {\n",
       "        text-align: right;\n",
       "    }\n",
       "</style>\n",
       "<table border=\"1\" class=\"dataframe\">\n",
       "  <thead>\n",
       "    <tr style=\"text-align: right;\">\n",
       "      <th></th>\n",
       "      <th>id</th>\n",
       "      <th>emotion</th>\n",
       "    </tr>\n",
       "  </thead>\n",
       "  <tbody>\n",
       "    <tr>\n",
       "      <th>2</th>\n",
       "      <td>0x28b412</td>\n",
       "      <td>anticipation</td>\n",
       "    </tr>\n",
       "    <tr>\n",
       "      <th>4</th>\n",
       "      <td>0x2de201</td>\n",
       "      <td>anticipation</td>\n",
       "    </tr>\n",
       "    <tr>\n",
       "      <th>9</th>\n",
       "      <td>0x218443</td>\n",
       "      <td>joy</td>\n",
       "    </tr>\n",
       "    <tr>\n",
       "      <th>30</th>\n",
       "      <td>0x2939d5</td>\n",
       "      <td>anticipation</td>\n",
       "    </tr>\n",
       "    <tr>\n",
       "      <th>33</th>\n",
       "      <td>0x26289a</td>\n",
       "      <td>joy</td>\n",
       "    </tr>\n",
       "    <tr>\n",
       "      <th>...</th>\n",
       "      <td>...</td>\n",
       "      <td>...</td>\n",
       "    </tr>\n",
       "    <tr>\n",
       "      <th>1034643</th>\n",
       "      <td>0x266e68</td>\n",
       "      <td>anticipation</td>\n",
       "    </tr>\n",
       "    <tr>\n",
       "      <th>1328136</th>\n",
       "      <td>0x269579</td>\n",
       "      <td>anticipation</td>\n",
       "    </tr>\n",
       "    <tr>\n",
       "      <th>1351856</th>\n",
       "      <td>0x2f885c</td>\n",
       "      <td>anticipation</td>\n",
       "    </tr>\n",
       "    <tr>\n",
       "      <th>1443448</th>\n",
       "      <td>0x20d80b</td>\n",
       "      <td>anticipation</td>\n",
       "    </tr>\n",
       "    <tr>\n",
       "      <th>1752690</th>\n",
       "      <td>0x2fe8bd</td>\n",
       "      <td>anticipation</td>\n",
       "    </tr>\n",
       "  </tbody>\n",
       "</table>\n",
       "<p>411972 rows × 2 columns</p>\n",
       "</div>"
      ],
      "text/plain": [
       "               id       emotion\n",
       "2        0x28b412  anticipation\n",
       "4        0x2de201  anticipation\n",
       "9        0x218443           joy\n",
       "30       0x2939d5  anticipation\n",
       "33       0x26289a           joy\n",
       "...           ...           ...\n",
       "1034643  0x266e68  anticipation\n",
       "1328136  0x269579  anticipation\n",
       "1351856  0x2f885c  anticipation\n",
       "1443448  0x20d80b  anticipation\n",
       "1752690  0x2fe8bd  anticipation\n",
       "\n",
       "[411972 rows x 2 columns]"
      ]
     },
     "execution_count": 73,
     "metadata": {},
     "output_type": "execute_result"
    }
   ],
   "source": [
    "y_submit.drop(labels=['text'],axis=1,inplace=True)\n",
    "y_submit.rename(columns={'tweet_id':'id','emotion_y':'emotion'},inplace=True)\n",
    "y_submit"
   ]
  },
  {
   "cell_type": "markdown",
   "metadata": {},
   "source": [
    "將最終結果存成 csv 黨"
   ]
  },
  {
   "cell_type": "code",
   "execution_count": 74,
   "metadata": {},
   "outputs": [],
   "source": [
    "y_submit.to_csv('submission.csv',index=False)"
   ]
  },
  {
   "attachments": {
    "image.png": {
     "image/png": "[encoded data removed]"
    }
   },
   "cell_type": "markdown",
   "metadata": {},
   "source": [
    "我們使用了這個方法最終也得到 0.44441 的分數，我雖然我也有使用 W2V 的方式來進行轉換，但效果似乎沒有差距太多，還是Tfidf的表現好一點，而我有嘗試調大TfidfVectorizer的 maxfeature ，最終表現上也會有些微的提升，而且使用到 lab 所教的技術，我覺得很不錯。\n",
    "![image.png](attachment:image.png)"
   ]
  },
  {
   "cell_type": "markdown",
   "metadata": {},
   "source": [
    "# 2. LSTM"
   ]
  },
  {
   "cell_type": "markdown",
   "metadata": {},
   "source": [
    "接著我嘗試了 LSTM 模型，因為 LSTM 是一種深度學習中的循環神經網絡（RNN）架構，專門設計來處理序列數據和解決長期相依性問題。在自然語言處理（NLP）、語音識別、時間序列分析等領域，LSTM廣泛應用於處理和建模具有長期相依性的數據。它在序列建模任務中的表現通常優於傳統的 RNN 模型。近年來，LSTM 的一些變種和更先進的序列模型（如 Transformer）也取得了顯著的進展。"
   ]
  },
  {
   "cell_type": "markdown",
   "metadata": {},
   "source": [
    "首先讀入我們的data"
   ]
  },
  {
   "cell_type": "code",
   "execution_count": null,
   "metadata": {},
   "outputs": [],
   "source": [
    "import numpy as np \n",
    "import pandas as pd \n",
    "import os\n",
    "for dirname, _, filenames in os.walk('/kaggle/input'):\n",
    "    for filename in filenames:\n",
    "        print(os.path.join(dirname, filename))\n",
    "        \n",
    "#import Package\n",
    "import numpy as np # linear algebra\n",
    "import pandas as pd # data processing, CSV file I/O (e.g. pd.read_csv)\n",
    "import os\n",
    "from datasets import load_dataset\n",
    "from datasets import Dataset\n",
    "\n",
    "#Read Json File\n",
    "tweet_raw = load_dataset(\"json\", data_files=\"/kaggle/input/dm2023/tweets_DM.json\")\n",
    "tweet_raw = tweet_raw['train']['_source']\n",
    "\n",
    "#Read CSV data\n",
    "data_iden = pd.read_csv('/kaggle/input/dm2023/data_identification.csv')\n",
    "data_label = pd.read_csv('/kaggle/input/dm2023/emotion.csv')\n",
    "\n",
    "#Transform to pandas dataframe for later preprocessing\n",
    "tweet_df = pd.json_normalize(tweet_raw)\n",
    "tweet_df.columns= ['hashtags','tweet_id','text_raw']\n",
    "tweet_df = tweet_df.join(data_iden.set_index('tweet_id'), on='tweet_id')\n",
    "tweet_df = tweet_df.join(data_label.set_index('tweet_id'), on='tweet_id')\n",
    "tweet_df.head()"
   ]
  },
  {
   "cell_type": "markdown",
   "metadata": {},
   "source": [
    "接著我們先預處理我們的 text ，例如利用 emoji 將文本中的表情符號轉換為對應的文字描述，和替換文字中的特殊字元，並將處理後的文本以空格為分隔符拆分成單詞，最後將處理後的文本列表中的單詞連接成一個字符串，並返回最終的預處理文本"
   ]
  },
  {
   "cell_type": "code",
   "execution_count": null,
   "metadata": {},
   "outputs": [],
   "source": [
    "import re\n",
    "import emoji\n",
    "\n",
    "def preprocess(text):\n",
    "    new_text = []\n",
    "    text = emoji.demojize(text).replace('face_with_',' ').replace('_',' ').replace(':',' ')\n",
    "    for t in text.split(\" \"):\n",
    "        t = '' if t.startswith('@') and len(t) > 1 else t\n",
    "        t = 'website' if t.startswith('http') else t\n",
    "        t = t.replace('#','').replace('<LH>','')\n",
    "        t = re.sub(r'\\W+', ' ', t)\n",
    "        new_text.append(t.lower())\n",
    "    return \" \".join([i for i in new_text if i !=''])"
   ]
  },
  {
   "cell_type": "markdown",
   "metadata": {},
   "source": [
    "根據 identification 的類別，將資料分為 train 跟 test，並清理掉一些 text 為空白的資訊"
   ]
  },
  {
   "cell_type": "code",
   "execution_count": null,
   "metadata": {},
   "outputs": [],
   "source": [
    "tweet_df[\"text\"]= tweet_df.text_raw.apply(lambda x: preprocess(x))\n",
    "\n",
    "train_df = tweet_df[tweet_df.identification=='train']\n",
    "test_df = tweet_df[tweet_df.identification=='test']\n",
    "train_df = train_df.dropna(axis=1)"
   ]
  },
  {
   "cell_type": "markdown",
   "metadata": {},
   "source": [
    "切分訓練跟驗證資料集"
   ]
  },
  {
   "cell_type": "code",
   "execution_count": null,
   "metadata": {},
   "outputs": [],
   "source": [
    "#Split train and validation dataset\n",
    "from sklearn.model_selection import train_test_split\n",
    "X_train, X_val, Y_train, Y_val = train_test_split(\n",
    "    train_df.text, train_df.emotion,\n",
    "    test_size = 0.25,   \n",
    "    shuffle = True,\n",
    "    random_state=42)\n",
    "\n",
    "tweets = X_train\n",
    "labels = Y_train\n",
    "\n",
    "#Set validation dataset\n",
    "val_tweets = X_val\n",
    "val_labels = Y_val"
   ]
  },
  {
   "cell_type": "markdown",
   "metadata": {},
   "source": [
    "從 gensim 的模型庫中下載了一個預先訓練好的 GloVe Twitter 25 維度的詞向量模型，可以將我們的text轉換成向量"
   ]
  },
  {
   "cell_type": "code",
   "execution_count": null,
   "metadata": {},
   "outputs": [],
   "source": [
    "#import pre-trained word2vector model \n",
    "import gensim.downloader as api\n",
    "w2v_model = api.load(\"glove-twitter-25\")\n",
    "w2v_model['sad']"
   ]
  },
  {
   "cell_type": "markdown",
   "metadata": {},
   "source": [
    "使用訓練集文本建立了一個詞彙表。這個詞彙表將用於將文本轉換為整數序列，以便進一步用於深度學習模型的訓練"
   ]
  },
  {
   "cell_type": "code",
   "execution_count": null,
   "metadata": {},
   "outputs": [],
   "source": [
    "#Tokenize\n",
    "from tensorflow.keras.preprocessing.text import Tokenizer\n",
    "\n",
    "tokenizer = Tokenizer(num_words=10000, oov_token='')\n",
    "tokenizer.fit_on_texts(train_df.text)"
   ]
  },
  {
   "cell_type": "markdown",
   "metadata": {},
   "source": [
    "根據預先訓練好的 GloVe 詞向量，為模型的嵌入層創建一個初始嵌入矩陣。這個嵌入矩陣將被用來初始化深度學習模型中的嵌入層，以便模型能夠利用預訓練的詞向量進行更好的訓練。"
   ]
  },
  {
   "cell_type": "code",
   "execution_count": null,
   "metadata": {},
   "outputs": [],
   "source": [
    "import numpy as np\n",
    "\n",
    "vocab_size = len(tokenizer.word_index) + 1 \n",
    "word_index = tokenizer.word_index\n",
    "embedding_dim = 25\n",
    "embedding_matrix = np.zeros((vocab_size, embedding_dim))\n",
    "for w in word_index:\n",
    "    idx = word_index[w] \n",
    "    try:\n",
    "        embedding_matrix[idx] = np.array(w2v_model[w], dtype=np.float32)[:embedding_dim]\n",
    "    except:\n",
    "        pass"
   ]
  },
  {
   "cell_type": "markdown",
   "metadata": {},
   "source": [
    "定義了一個名為 get_sequences 的函式，並使用該函式來將文本序列轉換為填充（padded）的整數序列。我們目的是將文本序列轉換為整數序列，然後進行填充以確保它們具有相同的長度，以便用於深度學習模型的訓練。"
   ]
  },
  {
   "cell_type": "code",
   "execution_count": null,
   "metadata": {},
   "outputs": [],
   "source": [
    "from tensorflow.keras.preprocessing.sequence import pad_sequences\n",
    "\n",
    "def get_sequences(tokenizer, tweets):\n",
    "    sequences = tokenizer.texts_to_sequences(tweets)\n",
    "    padded_sequences = pad_sequences(sequences, truncating='post', maxlen=40, padding='post')\n",
    "    return padded_sequences\n",
    "\n",
    "padded_train_sequences = get_sequences(tokenizer, tweets)\n",
    "val_sequences = get_sequences(tokenizer, val_tweets)"
   ]
  },
  {
   "cell_type": "markdown",
   "metadata": {},
   "source": [
    "將文本標籤轉換為數字類別索引，並創建幾個字典以實現類別名到索引和索引到類別名的映射，為每個不同的標籤創建一個唯一的數字索引，以便在深度學習模型中使用"
   ]
  },
  {
   "cell_type": "code",
   "execution_count": null,
   "metadata": {},
   "outputs": [],
   "source": [
    "classes = set(labels)\n",
    "classes_to_index = dict((c, i) for i, c in enumerate(classes))\n",
    "index_to_classes = dict((v, k) for k, v in classes_to_index.items())\n",
    "names_to_ids = lambda labels: np.array([classes_to_index.get(x) for x in labels])                  \n",
    "train_labels = names_to_ids(labels)\n",
    "val_labels = names_to_ids(Y_val)\n",
    "\n",
    "print(classes_to_index)"
   ]
  },
  {
   "cell_type": "markdown",
   "metadata": {},
   "source": [
    "使用 Keras 库建立的 LSTM 模型，並使用預訓練的嵌入層，模型架構如下："
   ]
  },
  {
   "cell_type": "code",
   "execution_count": 6,
   "metadata": {},
   "outputs": [
    {
     "name": "stdout",
     "output_type": "stream",
     "text": [
      "Model: sequential\n",
      "_________________________________________________________________\n",
      " Layer (type)                Output Shape              Param    \n",
      " embedding (Embedding)       (None, 40, 25)            12258675  \n",
      " lstm (LSTM)                 (None, 40, 128)           78848\n",
      " dropout (Dropout)           (None, 40, 128)           0\n",
      " lstm_1 (LSTM)               (None, 128)               131584\n",
      " dense (Dense)               (None, 64)                8256\n",
      " dense_1 (Dense)             (None, 8)                 520\n",
      "Total params: 12477883 (47.60 MB)\n",
      "Trainable params: 219208 (856.28 KB)\n",
      "Non-trainable params: 12258675 (46.76 MB)\n",
      "_________________________________________________________________\n"
     ]
    }
   ],
   "source": [
    "print(\"Model: sequential\")\n",
    "print(\"_________________________________________________________________\")\n",
    "print(\" Layer (type)                Output Shape              Param    \")\n",
    "print(\" embedding (Embedding)       (None, 40, 25)            12258675  \")\n",
    "print(\" lstm (LSTM)                 (None, 40, 128)           78848\")\n",
    "print(\" dropout (Dropout)           (None, 40, 128)           0\")\n",
    "print(\" lstm_1 (LSTM)               (None, 128)               131584\")\n",
    "print(\" dense (Dense)               (None, 64)                8256\")\n",
    "print(\" dense_1 (Dense)             (None, 8)                 520\")\n",
    "print(\"Total params: 12477883 (47.60 MB)\")\n",
    "print(\"Trainable params: 219208 (856.28 KB)\")\n",
    "print(\"Non-trainable params: 12258675 (46.76 MB)\")\n",
    "print(\"_________________________________________________________________\")"
   ]
  },
  {
   "cell_type": "code",
   "execution_count": null,
   "metadata": {},
   "outputs": [],
   "source": [
    "from numpy import array\n",
    "from keras.preprocessing.sequence import pad_sequences\n",
    "from keras.models import Sequential\n",
    "from keras.layers import Dense, LSTM, Dropout\n",
    "from keras.layers import Flatten\n",
    "from keras.layers import Embedding\n",
    "import tensorflow as tf\n",
    "\n",
    "embedding_dim = 25\n",
    "maxlen = 40\n",
    "model = Sequential()\n",
    "embedding_layer = Embedding(vocab_size, embedding_dim, weights=[embedding_matrix], input_length=maxlen, trainable=False)\n",
    "model.add(embedding_layer)\n",
    "model.add(LSTM(128, return_sequences = True))\n",
    "model.add(Dropout(0.2))\n",
    "model.add(LSTM(128))\n",
    "model.add(Dense(64, activation='relu'))\n",
    "model.add(Dense(8, activation='softmax'))\n",
    "opt = tf.keras.optimizers.Adam(0.0001)\n",
    "model.compile(optimizer=opt, loss='sparse_categorical_crossentropy', metrics=['acc'])\n",
    "print(model.summary())"
   ]
  },
  {
   "cell_type": "markdown",
   "metadata": {},
   "source": [
    "進行訓練"
   ]
  },
  {
   "cell_type": "code",
   "execution_count": null,
   "metadata": {},
   "outputs": [],
   "source": [
    "h = model.fit(\n",
    "    padded_train_sequences, train_labels,\n",
    "    validation_data=(val_sequences, val_labels),\n",
    "    epochs=200,batch_size=1000,\n",
    "    callbacks=[\n",
    "        tf.keras.callbacks.EarlyStopping(monitor='val_accuracy', patience=2)\n",
    "    ]\n",
    ")"
   ]
  },
  {
   "attachments": {
    "image.png": {
     "image/png": "[encoded data removed]"
    }
   },
   "cell_type": "markdown",
   "metadata": {},
   "source": [
    "畫出 training 跟 validation 的 loss curve\n",
    "![image.png](attachment:image.png)"
   ]
  },
  {
   "cell_type": "code",
   "execution_count": null,
   "metadata": {},
   "outputs": [],
   "source": [
    "acc = h.history['acc']\n",
    "val_acc = h.history['val_acc']\n",
    "loss = h.history['loss']\n",
    "val_loss = h.history['val_loss']\n",
    "import matplotlib.pyplot as plt\n",
    "plt.figure(figsize=(16,6))\n",
    "plt.subplot(1,2,1)\n",
    "plt.plot(acc, color='blue',label = 'training_acc')\n",
    "plt.plot(val_acc, color='red',label = 'val_acc')\n",
    "plt.legend()\n",
    "plt.title('Accuracy')\n",
    "\n",
    "plt.subplot(1,2,2)\n",
    "plt.plot(loss, color='blue',label = 'training_loss')\n",
    "plt.plot(val_loss, color='red',label = 'val_loss')\n",
    "plt.legend()\n",
    "plt.title('loss')\n",
    "\n",
    "plt.show()"
   ]
  },
  {
   "cell_type": "markdown",
   "metadata": {},
   "source": [
    "預測結果，並將其保存為 csv 黨"
   ]
  },
  {
   "cell_type": "code",
   "execution_count": null,
   "metadata": {},
   "outputs": [],
   "source": [
    "##prdeiction \n",
    "predict_dict = {}\n",
    "classes = list(classes)\n",
    "\n",
    "#the first 10 ows\n",
    "test_tweets = test_df.iloc[:10]\n",
    "test_sequences = get_sequences(tokenizer, test_tweets.text)\n",
    "test_logits = model.predict(test_sequences)\n",
    "\n",
    "for i,pred in zip(test_tweets.tweet_id, test_logits):\n",
    "    predict_dict.update({i:classes[pred.argmax()]})\n",
    "\n",
    "predict_dict"
   ]
  },
  {
   "cell_type": "code",
   "execution_count": null,
   "metadata": {},
   "outputs": [],
   "source": [
    "predict_dict = {}\n",
    "classes = list(classes)\n",
    "\n",
    "for i in range(1,int(test_df.shape[0]/10000)+1): #round(test_df.shape[0]/100)\n",
    "    print((i-1)*10000,i*10000)\n",
    "    test_tweets = test_df.iloc[(i-1)*10000:i*10000]\n",
    "    test_sequences = get_sequences(tokenizer, test_tweets.text)\n",
    "    test_logits = model.predict(test_sequences)\n",
    "    \n",
    "    for i,pred in zip(test_tweets.tweet_id, test_logits):\n",
    "        predict_dict.update({i:classes[pred.argmax()]})\n",
    "        \n",
    "test_tweets = test_df.iloc[410000:]\n",
    "test_sequences = get_sequences(tokenizer, test_tweets.text)\n",
    "test_logits = model.predict(test_sequences)\n",
    "\n",
    "for i,pred in zip(test_tweets.tweet_id, test_logits):\n",
    "    predict_dict.update({i:classes[pred.argmax()]})\n",
    "    \n",
    "### save result\n",
    "output = pd.DataFrame([predict_dict]).T\n",
    "output.columns=['emotion']\n",
    "output.index.name = 'id'\n",
    "output.to_csv('./submission.csv')"
   ]
  },
  {
   "attachments": {
    "image.png": {
     "image/png": "[encoded data removed]"
    }
   },
   "cell_type": "markdown",
   "metadata": {},
   "source": [
    "這邊我嘗試使用自己所架構的模型來訓練，並且使用 W2V 作為 encoder ，我本來以為這個的效果會非常好，因為我做了很多的處理，感覺上也比前面的方法來的簡潔有力，但最終卻只得到 0.43672 的成績，我思考後覺得是因為我 word2vec 的預設權重視使用glove-twitter，可能沒有很好的 fit 到我的數據，所以這部份是我必須再思考的方向。\n",
    "\n",
    "突然突發奇想，我假如跟前面的方法依樣，去調整 max features 的大小，有可能也會得到比較好的效果，這個方法我有點過於著重在，如何設計模型的架構上了，讓我失去看到很多方法的眼界。\n",
    "![image.png](attachment:image.png)"
   ]
  },
  {
   "cell_type": "markdown",
   "metadata": {},
   "source": [
    "# 3. MLPClassifier"
   ]
  },
  {
   "cell_type": "markdown",
   "metadata": {},
   "source": [
    "接著第三個方法我嘗試使用 MLPClassifier 來進行分類。MLPClassifier 是 Scikit-learn 中的多層感知器（Multilayer Perceptron，MLP）的分類器，通過設定不同的參數，可以構建不同結構的神經網絡模型來解決分類問題。在使用時，可以根據具體問題調整參數以達到最佳性能。不過這邊唯一的問題就是在前處理時我們必須將 text 轉唯一連串的數字。"
   ]
  },
  {
   "cell_type": "markdown",
   "metadata": {},
   "source": [
    "首先我們 import 我們所需要的 package"
   ]
  },
  {
   "cell_type": "code",
   "execution_count": null,
   "metadata": {},
   "outputs": [],
   "source": [
    "import pandas as pd\n",
    "import numpy as np\n",
    "import json\n",
    "import nltk\n",
    "from sklearn.feature_extraction.text import CountVectorizer\n",
    "from sklearn.model_selection import train_test_split"
   ]
  },
  {
   "cell_type": "markdown",
   "metadata": {},
   "source": [
    "讀進我們所需的檔案"
   ]
  },
  {
   "cell_type": "code",
   "execution_count": null,
   "metadata": {},
   "outputs": [],
   "source": [
    "df=pd.read_json(\"tweets_DM.json\",lines=True,orient='columns')\n",
    "op=pd.json_normalize(df._source)\n",
    "op=op.rename(columns={'tweet.tweet_id':'tweet_id','tweet.text':'text'})\n",
    "ident=pd.read_csv(\"data_identification.csv\")\n",
    "emo=pd.read_csv(\"emotion.csv\")"
   ]
  },
  {
   "cell_type": "markdown",
   "metadata": {},
   "source": [
    "將檔案合併，變成我們所需的檔案，這樣就只需呼叫一次，然後根據 identification 的類別進行訓練跟測試資料集的分類"
   ]
  },
  {
   "cell_type": "code",
   "execution_count": null,
   "metadata": {},
   "outputs": [],
   "source": [
    "total=pd.merge(op,ident,on='tweet_id')\n",
    "total=total.drop(columns='tweet.hashtags')\n",
    "train_data=total[total['identification']=='train']\n",
    "test_data=total[total['identification']=='test']"
   ]
  },
  {
   "cell_type": "code",
   "execution_count": null,
   "metadata": {},
   "outputs": [],
   "source": [
    "train_data=pd.merge(train_data,emo,on='tweet_id')"
   ]
  },
  {
   "cell_type": "code",
   "execution_count": null,
   "metadata": {},
   "outputs": [],
   "source": [
    "train_data=train_data.drop(columns='identification')\n",
    "test_data=test_data.drop(columns='identification')"
   ]
  },
  {
   "cell_type": "markdown",
   "metadata": {},
   "source": [
    "將我們整理好的檔案儲存起來，下次呼叫即可省略前處理的步驟"
   ]
  },
  {
   "cell_type": "code",
   "execution_count": null,
   "metadata": {},
   "outputs": [],
   "source": [
    "train_data.to_pickle(\"train_df.pkl\")\n",
    "test_data.to_pickle(\"test_df.pkl\")"
   ]
  },
  {
   "cell_type": "code",
   "execution_count": null,
   "metadata": {},
   "outputs": [],
   "source": [
    "train_data=pd.read_pickle(\"train_df.pkl\")\n",
    "test_data=pd.read_pickle(\"test_df.pkl\")"
   ]
  },
  {
   "cell_type": "markdown",
   "metadata": {},
   "source": [
    "接著我們在訓練數據集的文本列中移除特定的字符"
   ]
  },
  {
   "cell_type": "code",
   "execution_count": null,
   "metadata": {},
   "outputs": [],
   "source": [
    "train_data['text']=train_data['text'].replace('#',\"\")\n",
    "train_data['text']=train_data['text'].replace('@',\"\")"
   ]
  },
  {
   "cell_type": "markdown",
   "metadata": {},
   "source": [
    "將文本轉換為 BOW 表示形式所需的信息。每個文本將被表示為一個稀疏的向量，其中每個元素對應一個詞彙，其值為該詞在文本中出現的次數。這種表示法可以用於訓練機器學習模型，例如使用支持向量機（SVM）或其他分類器。"
   ]
  },
  {
   "cell_type": "code",
   "execution_count": null,
   "metadata": {},
   "outputs": [
    {
     "name": "stderr",
     "output_type": "stream",
     "text": [
      "c:\\Users\\Martin\\AppData\\Local\\Programs\\Python\\Python311\\Lib\\site-packages\\sklearn\\feature_extraction\\text.py:525: UserWarning: The parameter 'token_pattern' will not be used since 'tokenizer' is not None'\n",
      "  warnings.warn(\n"
     ]
    },
    {
     "data": {
      "text/html": [
       "<style>#sk-container-id-2 {color: black;}#sk-container-id-2 pre{padding: 0;}#sk-container-id-2 div.sk-toggleable {background-color: white;}#sk-container-id-2 label.sk-toggleable__label {cursor: pointer;display: block;width: 100%;margin-bottom: 0;padding: 0.3em;box-sizing: border-box;text-align: center;}#sk-container-id-2 label.sk-toggleable__label-arrow:before {content: \"▸\";float: left;margin-right: 0.25em;color: #696969;}#sk-container-id-2 label.sk-toggleable__label-arrow:hover:before {color: black;}#sk-container-id-2 div.sk-estimator:hover label.sk-toggleable__label-arrow:before {color: black;}#sk-container-id-2 div.sk-toggleable__content {max-height: 0;max-width: 0;overflow: hidden;text-align: left;background-color: #f0f8ff;}#sk-container-id-2 div.sk-toggleable__content pre {margin: 0.2em;color: black;border-radius: 0.25em;background-color: #f0f8ff;}#sk-container-id-2 input.sk-toggleable__control:checked~div.sk-toggleable__content {max-height: 200px;max-width: 100%;overflow: auto;}#sk-container-id-2 input.sk-toggleable__control:checked~label.sk-toggleable__label-arrow:before {content: \"▾\";}#sk-container-id-2 div.sk-estimator input.sk-toggleable__control:checked~label.sk-toggleable__label {background-color: #d4ebff;}#sk-container-id-2 div.sk-label input.sk-toggleable__control:checked~label.sk-toggleable__label {background-color: #d4ebff;}#sk-container-id-2 input.sk-hidden--visually {border: 0;clip: rect(1px 1px 1px 1px);clip: rect(1px, 1px, 1px, 1px);height: 1px;margin: -1px;overflow: hidden;padding: 0;position: absolute;width: 1px;}#sk-container-id-2 div.sk-estimator {font-family: monospace;background-color: #f0f8ff;border: 1px dotted black;border-radius: 0.25em;box-sizing: border-box;margin-bottom: 0.5em;}#sk-container-id-2 div.sk-estimator:hover {background-color: #d4ebff;}#sk-container-id-2 div.sk-parallel-item::after {content: \"\";width: 100%;border-bottom: 1px solid gray;flex-grow: 1;}#sk-container-id-2 div.sk-label:hover label.sk-toggleable__label {background-color: #d4ebff;}#sk-container-id-2 div.sk-serial::before {content: \"\";position: absolute;border-left: 1px solid gray;box-sizing: border-box;top: 0;bottom: 0;left: 50%;z-index: 0;}#sk-container-id-2 div.sk-serial {display: flex;flex-direction: column;align-items: center;background-color: white;padding-right: 0.2em;padding-left: 0.2em;position: relative;}#sk-container-id-2 div.sk-item {position: relative;z-index: 1;}#sk-container-id-2 div.sk-parallel {display: flex;align-items: stretch;justify-content: center;background-color: white;position: relative;}#sk-container-id-2 div.sk-item::before, #sk-container-id-2 div.sk-parallel-item::before {content: \"\";position: absolute;border-left: 1px solid gray;box-sizing: border-box;top: 0;bottom: 0;left: 50%;z-index: -1;}#sk-container-id-2 div.sk-parallel-item {display: flex;flex-direction: column;z-index: 1;position: relative;background-color: white;}#sk-container-id-2 div.sk-parallel-item:first-child::after {align-self: flex-end;width: 50%;}#sk-container-id-2 div.sk-parallel-item:last-child::after {align-self: flex-start;width: 50%;}#sk-container-id-2 div.sk-parallel-item:only-child::after {width: 0;}#sk-container-id-2 div.sk-dashed-wrapped {border: 1px dashed gray;margin: 0 0.4em 0.5em 0.4em;box-sizing: border-box;padding-bottom: 0.4em;background-color: white;}#sk-container-id-2 div.sk-label label {font-family: monospace;font-weight: bold;display: inline-block;line-height: 1.2em;}#sk-container-id-2 div.sk-label-container {text-align: center;}#sk-container-id-2 div.sk-container {/* jupyter's `normalize.less` sets `[hidden] { display: none; }` but bootstrap.min.css set `[hidden] { display: none !important; }` so we also need the `!important` here to be able to override the default hidden behavior on the sphinx rendered scikit-learn.org. See: https://github.com/scikit-learn/scikit-learn/issues/21755 */display: inline-block !important;position: relative;}#sk-container-id-2 div.sk-text-repr-fallback {display: none;}</style><div id=\"sk-container-id-2\" class=\"sk-top-container\"><div class=\"sk-text-repr-fallback\"><pre>CountVectorizer(max_features=200000,\n",
       "                tokenizer=&lt;function word_tokenize at 0x000001F23853E020&gt;)</pre><b>In a Jupyter environment, please rerun this cell to show the HTML representation or trust the notebook. <br />On GitHub, the HTML representation is unable to render, please try loading this page with nbviewer.org.</b></div><div class=\"sk-container\" hidden><div class=\"sk-item\"><div class=\"sk-estimator sk-toggleable\"><input class=\"sk-toggleable__control sk-hidden--visually\" id=\"sk-estimator-id-2\" type=\"checkbox\" checked><label for=\"sk-estimator-id-2\" class=\"sk-toggleable__label sk-toggleable__label-arrow\">CountVectorizer</label><div class=\"sk-toggleable__content\"><pre>CountVectorizer(max_features=200000,\n",
       "                tokenizer=&lt;function word_tokenize at 0x000001F23853E020&gt;)</pre></div></div></div></div></div>"
      ],
      "text/plain": [
       "CountVectorizer(max_features=200000,\n",
       "                tokenizer=<function word_tokenize at 0x000001F23853E020>)"
      ]
     },
     "metadata": {},
     "output_type": "display_data"
    }
   ],
   "source": [
    "BOW = CountVectorizer(max_features=200000, tokenizer=nltk.word_tokenize)\n",
    "BOW.fit(train_data['text'])"
   ]
  },
  {
   "cell_type": "markdown",
   "metadata": {},
   "source": [
    "切分我們的訓練集跟測試集"
   ]
  },
  {
   "cell_type": "code",
   "execution_count": null,
   "metadata": {},
   "outputs": [],
   "source": [
    "train_da, val_da = train_test_split(train_data, random_state=777, train_size=0.85)"
   ]
  },
  {
   "cell_type": "code",
   "execution_count": null,
   "metadata": {},
   "outputs": [],
   "source": [
    "tr_x=train_da\n",
    "val_x=val_da"
   ]
  },
  {
   "cell_type": "markdown",
   "metadata": {},
   "source": [
    "將資料集轉為 BOW 的稀疏矩陣"
   ]
  },
  {
   "cell_type": "code",
   "execution_count": null,
   "metadata": {},
   "outputs": [],
   "source": [
    "train_x=BOW.transform(tr_x['text'])\n",
    "val_x=BOW.transform(val_x['text'])\n",
    "train_y=tr_x['emotion']"
   ]
  },
  {
   "cell_type": "code",
   "execution_count": null,
   "metadata": {},
   "outputs": [],
   "source": [
    "val_y=val_da['emotion']"
   ]
  },
  {
   "cell_type": "code",
   "execution_count": null,
   "metadata": {},
   "outputs": [],
   "source": [
    "test_x=BOW.transform(test_data['text'])"
   ]
  },
  {
   "cell_type": "markdown",
   "metadata": {},
   "source": [
    "使用 Scikit-learn 中的 LabelEncoder 來對目標標籤進行編碼，同時使用 Keras 的 to_categorical 函數將整數編碼轉換為 one-hot 編碼，目的是將目標標籤轉換為模型可以使用的形式"
   ]
  },
  {
   "cell_type": "code",
   "execution_count": null,
   "metadata": {},
   "outputs": [
    {
     "name": "stdout",
     "output_type": "stream",
     "text": [
      "['anger' 'anticipation' 'disgust' 'fear' 'joy' 'sadness' 'surprise'\n",
      " 'trust']\n"
     ]
    }
   ],
   "source": [
    "from sklearn.preprocessing import LabelEncoder\n",
    "from tensorflow import keras\n",
    "label_encoder = LabelEncoder()\n",
    "label_encoder.fit(train_y)\n",
    "print( label_encoder.classes_)\n",
    "\n",
    "\n",
    "def label_encode(le, labels):\n",
    "    enc = le.transform(labels)\n",
    "    return keras.utils.to_categorical(enc)\n",
    "\n",
    "def label_decode(le, one_hot_label):\n",
    "    dec = np.argmax(one_hot_label, axis=1)\n",
    "    return le.inverse_transform(dec)\n",
    "\n",
    "y_train = label_encode(label_encoder, train_y)"
   ]
  },
  {
   "cell_type": "markdown",
   "metadata": {},
   "source": [
    "使用 MLP 分類器進行文本分類，並根據指定的參數進行訓練。這種分類器在處理非線性分類問題時通常表現良好，同時使用 tanh 激活函數和 Adam 優化算法有助於更好地捕捉複雜的模型模式"
   ]
  },
  {
   "cell_type": "code",
   "execution_count": 32,
   "metadata": {},
   "outputs": [
    {
     "name": "stdout",
     "output_type": "stream",
     "text": [
      "Iteration 1, loss = 1.30426807\n",
      "Iteration 2, loss = 1.23602071\n",
      "Iteration 3, loss = 1.21038376\n",
      "Iteration 4, loss = 1.19126605\n",
      "Iteration 5, loss = 1.17530179\n",
      "Iteration 6, loss = 1.16160674\n",
      "Iteration 7, loss = 1.14950047\n",
      "Iteration 8, loss = 1.13846832\n",
      "Iteration 9, loss = 1.12864127\n",
      "Iteration 10, loss = 1.11967616\n",
      "Iteration 11, loss = 1.11155433\n",
      "Iteration 12, loss = 1.10387703\n",
      "Iteration 13, loss = 1.09712904\n",
      "Iteration 14, loss = 1.09111440\n",
      "Iteration 15, loss = 1.08504672\n",
      "train accu: 0.6640391850446958\n"
     ]
    }
   ],
   "source": [
    "from sklearn.neural_network import MLPClassifier\n",
    "from sklearn.metrics import accuracy_score\n",
    "NN2=MLPClassifier(activation='tanh',solver='adam',alpha=0.001,power_t=0.5,max_iter=15,hidden_layer_sizes=(32,32,32),verbose=True,early_stopping=False)\n",
    "NN2=NN2.fit(train_x,y_train)\n",
    "\n",
    "mlp_pre2=NN2.predict(train_x)\n",
    "print(\"train accu:\",accuracy_score(mlp_pre2,y_train))\n",
    "\n",
    "mlp_pre_test2=NN2.predict(test_x)"
   ]
  },
  {
   "cell_type": "markdown",
   "metadata": {},
   "source": [
    "去計算我們訓練後模型的精確度"
   ]
  },
  {
   "cell_type": "code",
   "execution_count": 33,
   "metadata": {},
   "outputs": [],
   "source": [
    "df_test = df_all[df_all['identification'] == 'test'].dropna(subset=['text'])\n",
    "mlp_pre_test2=pd.DataFrame(mlp_pre_test2)\n",
    "y_submit=df_test.copy()\n",
    "y_submit['emotion']=list(mlp_pre_test2[0])\n",
    "y_submit.drop(labels=['text','score','identification'],axis=1,inplace=True)\n",
    "y_submit.rename(columns={\"tweet_id\": \"id\"},inplace=True)"
   ]
  },
  {
   "cell_type": "markdown",
   "metadata": {},
   "source": [
    "最後利用訓練好的模型來進行，並將最後結果存成 csv 黨，以供我們繳交"
   ]
  },
  {
   "cell_type": "code",
   "execution_count": null,
   "metadata": {},
   "outputs": [],
   "source": [
    "df_test = df_all[df_all['identification'] == 'test']\n",
    "del df_test['score']\n",
    "del df_test['identification']"
   ]
  },
  {
   "cell_type": "code",
   "execution_count": null,
   "metadata": {},
   "outputs": [],
   "source": [
    "add=df_test[df_test['text'].isna()].copy()\n",
    "add['emotion']='joy'\n",
    "add.rename(columns={'tweet_id':'id'},inplace=True)\n",
    "y_submit=pd.concat([y_submit,add])\n",
    "y_submit.to_csv('submission.csv',index=False)"
   ]
  },
  {
   "attachments": {
    "image.png": {
     "image/png": "[encoded data removed]"
    }
   },
   "cell_type": "markdown",
   "metadata": {},
   "source": [
    "我用的這個方法得到了 0.44111 的精度，表現算是中規中矩，不過我認為精度沒有下面的方法好可能是由於模型配置、數據特性或超參數的不同，但是也是一個不錯的嘗試。\n",
    "![image.png](attachment:image.png)"
   ]
  },
  {
   "cell_type": "markdown",
   "metadata": {},
   "source": [
    "# 4. MLPRegressor"
   ]
  },
  {
   "cell_type": "markdown",
   "metadata": {},
   "source": [
    "MLPRegressor 是一種靈活且強大的模型，適用於各種回歸任務。根據任務的複雜性，您可以通過調整超參數和模型配置來優化模型的性能，且我們資料前處理的方式跟 3. 一樣，所以這邊只針對後續不同的程式碼做解釋"
   ]
  },
  {
   "cell_type": "markdown",
   "metadata": {},
   "source": [
    "使用 Scikit-learn 中的 MLPRegressor 類建立了一個多層感知器（MLP）回歸模型，然後使用訓練數據進行模型的擬合（fitting）"
   ]
  },
  {
   "cell_type": "code",
   "execution_count": null,
   "metadata": {},
   "outputs": [
    {
     "name": "stdout",
     "output_type": "stream",
     "text": [
      "Iteration 1, loss = 0.04198441\n",
      "Iteration 2, loss = 0.03987347\n",
      "Iteration 3, loss = 0.03984978\n",
      "Iteration 4, loss = 0.03962646\n",
      "Iteration 5, loss = 0.03928424\n",
      "Iteration 6, loss = 0.03897174\n",
      "Iteration 7, loss = 0.03869748\n",
      "Iteration 8, loss = 0.03844560\n",
      "Iteration 9, loss = 0.03823408\n",
      "Iteration 10, loss = 0.03805328\n"
     ]
    },
    {
     "name": "stderr",
     "output_type": "stream",
     "text": [
      "c:\\Users\\Martin\\AppData\\Local\\Programs\\Python\\Python311\\Lib\\site-packages\\sklearn\\neural_network\\_multilayer_perceptron.py:691: ConvergenceWarning: Stochastic Optimizer: Maximum iterations (10) reached and the optimization hasn't converged yet.\n",
      "  warnings.warn(\n"
     ]
    }
   ],
   "source": [
    "from sklearn.neural_network import MLPRegressor\n",
    "NN=MLPRegressor(activation='logistic',solver='adam',alpha=0.00007,max_iter=10,hidden_layer_sizes=(32,32,32),verbose=True,early_stopping=False)\n",
    "NN=NN.fit(train_x,y_train)"
   ]
  },
  {
   "cell_type": "markdown",
   "metadata": {},
   "source": [
    "去計算我們訓練後模型的精確度"
   ]
  },
  {
   "cell_type": "code",
   "execution_count": null,
   "metadata": {},
   "outputs": [
    {
     "name": "stdout",
     "output_type": "stream",
     "text": [
      "train accu: 0.6944201068840989\n",
      "val accu: 0.5843588980236792\n"
     ]
    }
   ],
   "source": [
    "from sklearn.metrics import accuracy_score\n",
    "mlp_pre=NN.predict(train_x)\n",
    "mlp_pre_val=NN.predict(val_x)\n",
    "mlp_pre=label_decode(label_encoder,mlp_pre)\n",
    "mlp_pre_val=label_decode(label_encoder,mlp_pre_val)\n",
    "print(\"train accu:\",accuracy_score(mlp_pre,train_y))\n",
    "print(\"val accu:\",accuracy_score(mlp_pre_val,val_y))"
   ]
  },
  {
   "cell_type": "markdown",
   "metadata": {},
   "source": [
    "最後利用訓練好的模型來進行，並將最後結果存成 csv 黨，以供我們繳交"
   ]
  },
  {
   "cell_type": "code",
   "execution_count": null,
   "metadata": {},
   "outputs": [],
   "source": [
    "mlp_pre_test=NN.predict(test_x)\n",
    "mlp_pre_test=label_decode(label_encoder,mlp_pre_test)\n",
    "output5= pd.DataFrame({'id':test_data.tweet_id , 'emotion': mlp_pre_test})\n",
    "output5.to_csv('submission_2.csv', index=False)"
   ]
  },
  {
   "attachments": {
    "image.png": {
     "image/png": "[encoded data removed]"
    }
   },
   "cell_type": "markdown",
   "metadata": {},
   "source": [
    "這個方法是我得到最高分數的一個方法，雖然因為我的 max features 設定很大，所以導致訓練幾乎花了10個小時，但能得到這樣的0.48209的結果，我還是非常開心的，我個人認為這個方法的表現比較好有幾個可能：\n",
    "1. 使用 Bag of Words（BOW）作為文本表示形式，它將文本轉換為詞袋模型，考慮每個單詞的出現頻率。MLP 可以從這樣的表示中學習到更複雜的特徵和模式，有助於提高文本分類的性能\n",
    "2. 非線性建模\n",
    "\n",
    "不過因為時間的限制，我個人認為有些參數如果再進行優化，我們能得到更好的結果\n",
    "![image.png](attachment:image.png)"
   ]
  },
  {
   "cell_type": "markdown",
   "metadata": {},
   "source": [
    "# 5. 其餘嘗試"
   ]
  },
  {
   "cell_type": "markdown",
   "metadata": {},
   "source": [
    "其實這次的作業我是非常想要使用 BERT 來進行訓練，所以花了非常非常多的時間要來使用 BERT，不過非常可惜到最後都沒有成功，下方是我撰寫使用 BERT 的程式碼，不過因為無法成功執行，所以我就不多做講解，在這邊稍微講一下我的設計概念就好了：\n",
    "\n",
    "1. 首先我將 emotion 的部分轉為數字，方便我進行後續訓練\n",
    "2. 使用BertTokenizer來創造我們的Tokenizer，然後這邊我使用 bert-base-uncased 作為一開始的參數，這是以英文text來做訓練的參數，並且沒有大小寫的區分\n",
    "3. 然後使用Tokenizer為我們的text進行 encode ，這邊還有順帶做了 mask 的處理\n",
    "4. 最後用BertForSequenceClassification當作我們的模型來進行訓練\n",
    "\n",
    "以上是我設計的步驟，不過非常可惜的並沒有成功，希望我之後能成功研究出來。\n",
    "\n",
    "我同時也有嘗試另一個想法，就是先就由BERT做encoder的動作前處理我們的資料，在將這些資訊丟到其他分類模型中訓練，不過很可惜，我一樣在這個嘗試中失敗了。"
   ]
  },
  {
   "cell_type": "markdown",
   "metadata": {},
   "source": [
    "Bert測試"
   ]
  },
  {
   "cell_type": "code",
   "execution_count": 1,
   "metadata": {},
   "outputs": [
    {
     "data": {
      "text/html": [
       "<div>\n",
       "<style scoped>\n",
       "    .dataframe tbody tr th:only-of-type {\n",
       "        vertical-align: middle;\n",
       "    }\n",
       "\n",
       "    .dataframe tbody tr th {\n",
       "        vertical-align: top;\n",
       "    }\n",
       "\n",
       "    .dataframe thead th {\n",
       "        text-align: right;\n",
       "    }\n",
       "</style>\n",
       "<table border=\"1\" class=\"dataframe\">\n",
       "  <thead>\n",
       "    <tr style=\"text-align: right;\">\n",
       "      <th></th>\n",
       "      <th>tweet_id</th>\n",
       "      <th>text</th>\n",
       "      <th>score</th>\n",
       "      <th>identification</th>\n",
       "      <th>emotion</th>\n",
       "    </tr>\n",
       "  </thead>\n",
       "  <tbody>\n",
       "    <tr>\n",
       "      <th>0</th>\n",
       "      <td>0x376b20</td>\n",
       "      <td>people post add #snapchat must dehydrated cuz ...</td>\n",
       "      <td>0.381232</td>\n",
       "      <td>train</td>\n",
       "      <td>anticipation</td>\n",
       "    </tr>\n",
       "    <tr>\n",
       "      <th>1</th>\n",
       "      <td>0x2d5350</td>\n",
       "      <td>see trump dangerous #freepress around world #t...</td>\n",
       "      <td>0.422287</td>\n",
       "      <td>train</td>\n",
       "      <td>sadness</td>\n",
       "    </tr>\n",
       "    <tr>\n",
       "      <th>2</th>\n",
       "      <td>0x28b412</td>\n",
       "      <td>confident obedience write knowing even ask (ph...</td>\n",
       "      <td>0.225806</td>\n",
       "      <td>test</td>\n",
       "      <td>NaN</td>\n",
       "    </tr>\n",
       "    <tr>\n",
       "      <th>3</th>\n",
       "      <td>0x1cd5b0</td>\n",
       "      <td>issa stalking tasha 😂😂😂</td>\n",
       "      <td>0.366569</td>\n",
       "      <td>train</td>\n",
       "      <td>fear</td>\n",
       "    </tr>\n",
       "    <tr>\n",
       "      <th>4</th>\n",
       "      <td>0x2de201</td>\n",
       "      <td>trust faith friend someone trust putting faith...</td>\n",
       "      <td>0.965787</td>\n",
       "      <td>test</td>\n",
       "      <td>NaN</td>\n",
       "    </tr>\n",
       "    <tr>\n",
       "      <th>...</th>\n",
       "      <td>...</td>\n",
       "      <td>...</td>\n",
       "      <td>...</td>\n",
       "      <td>...</td>\n",
       "      <td>...</td>\n",
       "    </tr>\n",
       "    <tr>\n",
       "      <th>1867530</th>\n",
       "      <td>0x316b80</td>\n",
       "      <td>buy last 2 ticket remaining show sell #mixedfe...</td>\n",
       "      <td>0.807429</td>\n",
       "      <td>test</td>\n",
       "      <td>NaN</td>\n",
       "    </tr>\n",
       "    <tr>\n",
       "      <th>1867531</th>\n",
       "      <td>0x29d0cb</td>\n",
       "      <td>swear hard work gone pay one day😈💰💸</td>\n",
       "      <td>0.358749</td>\n",
       "      <td>test</td>\n",
       "      <td>NaN</td>\n",
       "    </tr>\n",
       "    <tr>\n",
       "      <th>1867532</th>\n",
       "      <td>0x2a6a4f</td>\n",
       "      <td>card left wasnt idea get parcel</td>\n",
       "      <td>0.485826</td>\n",
       "      <td>test</td>\n",
       "      <td>NaN</td>\n",
       "    </tr>\n",
       "    <tr>\n",
       "      <th>1867533</th>\n",
       "      <td>0x24faed</td>\n",
       "      <td>ah corporate life date using relative anachron...</td>\n",
       "      <td>0.820137</td>\n",
       "      <td>train</td>\n",
       "      <td>joy</td>\n",
       "    </tr>\n",
       "    <tr>\n",
       "      <th>1867534</th>\n",
       "      <td>0x34be8c</td>\n",
       "      <td>blessed living #sundayvibes</td>\n",
       "      <td>0.350929</td>\n",
       "      <td>train</td>\n",
       "      <td>joy</td>\n",
       "    </tr>\n",
       "  </tbody>\n",
       "</table>\n",
       "<p>1867535 rows × 5 columns</p>\n",
       "</div>"
      ],
      "text/plain": [
       "         tweet_id                                               text  \\\n",
       "0        0x376b20  people post add #snapchat must dehydrated cuz ...   \n",
       "1        0x2d5350  see trump dangerous #freepress around world #t...   \n",
       "2        0x28b412  confident obedience write knowing even ask (ph...   \n",
       "3        0x1cd5b0                            issa stalking tasha 😂😂😂   \n",
       "4        0x2de201  trust faith friend someone trust putting faith...   \n",
       "...           ...                                                ...   \n",
       "1867530  0x316b80  buy last 2 ticket remaining show sell #mixedfe...   \n",
       "1867531  0x29d0cb                swear hard work gone pay one day😈💰💸   \n",
       "1867532  0x2a6a4f                    card left wasnt idea get parcel   \n",
       "1867533  0x24faed  ah corporate life date using relative anachron...   \n",
       "1867534  0x34be8c                        blessed living #sundayvibes   \n",
       "\n",
       "            score identification       emotion  \n",
       "0        0.381232          train  anticipation  \n",
       "1        0.422287          train       sadness  \n",
       "2        0.225806           test           NaN  \n",
       "3        0.366569          train          fear  \n",
       "4        0.965787           test           NaN  \n",
       "...           ...            ...           ...  \n",
       "1867530  0.807429           test           NaN  \n",
       "1867531  0.358749           test           NaN  \n",
       "1867532  0.485826           test           NaN  \n",
       "1867533  0.820137          train           joy  \n",
       "1867534  0.350929          train           joy  \n",
       "\n",
       "[1867535 rows x 5 columns]"
      ]
     },
     "execution_count": 1,
     "metadata": {},
     "output_type": "execute_result"
    }
   ],
   "source": [
    "import pandas as pd\n",
    "df_all=pd.read_csv('kaggle_data_preprocess.csv')\n",
    "df_all.drop(['Unnamed: 0'], axis=1, inplace=True)\n",
    "df_all.drop(labels=['identification_x','emotion_x'], axis=1, inplace=True)\n",
    "df_all.rename(columns={\"tweet_id\": \"tweet_id\", \"identification_y\": \"identification\", \"emotion_y\":\"emotion\"}, inplace=True)\n",
    "df_all"
   ]
  },
  {
   "cell_type": "code",
   "execution_count": 2,
   "metadata": {},
   "outputs": [
    {
     "data": {
      "text/html": [
       "<div>\n",
       "<style scoped>\n",
       "    .dataframe tbody tr th:only-of-type {\n",
       "        vertical-align: middle;\n",
       "    }\n",
       "\n",
       "    .dataframe tbody tr th {\n",
       "        vertical-align: top;\n",
       "    }\n",
       "\n",
       "    .dataframe thead th {\n",
       "        text-align: right;\n",
       "    }\n",
       "</style>\n",
       "<table border=\"1\" class=\"dataframe\">\n",
       "  <thead>\n",
       "    <tr style=\"text-align: right;\">\n",
       "      <th></th>\n",
       "      <th>tweet_id</th>\n",
       "      <th>text</th>\n",
       "      <th>score</th>\n",
       "      <th>identification</th>\n",
       "      <th>emotion</th>\n",
       "    </tr>\n",
       "  </thead>\n",
       "  <tbody>\n",
       "    <tr>\n",
       "      <th>0</th>\n",
       "      <td>0x376b20</td>\n",
       "      <td>people post add #snapchat must dehydrated cuz ...</td>\n",
       "      <td>0.381232</td>\n",
       "      <td>train</td>\n",
       "      <td>1.0</td>\n",
       "    </tr>\n",
       "    <tr>\n",
       "      <th>1</th>\n",
       "      <td>0x2d5350</td>\n",
       "      <td>see trump dangerous #freepress around world #t...</td>\n",
       "      <td>0.422287</td>\n",
       "      <td>train</td>\n",
       "      <td>3.0</td>\n",
       "    </tr>\n",
       "    <tr>\n",
       "      <th>2</th>\n",
       "      <td>0x28b412</td>\n",
       "      <td>confident obedience write knowing even ask (ph...</td>\n",
       "      <td>0.225806</td>\n",
       "      <td>test</td>\n",
       "      <td>NaN</td>\n",
       "    </tr>\n",
       "    <tr>\n",
       "      <th>3</th>\n",
       "      <td>0x1cd5b0</td>\n",
       "      <td>issa stalking tasha 😂😂😂</td>\n",
       "      <td>0.366569</td>\n",
       "      <td>train</td>\n",
       "      <td>5.0</td>\n",
       "    </tr>\n",
       "    <tr>\n",
       "      <th>4</th>\n",
       "      <td>0x2de201</td>\n",
       "      <td>trust faith friend someone trust putting faith...</td>\n",
       "      <td>0.965787</td>\n",
       "      <td>test</td>\n",
       "      <td>NaN</td>\n",
       "    </tr>\n",
       "    <tr>\n",
       "      <th>...</th>\n",
       "      <td>...</td>\n",
       "      <td>...</td>\n",
       "      <td>...</td>\n",
       "      <td>...</td>\n",
       "      <td>...</td>\n",
       "    </tr>\n",
       "    <tr>\n",
       "      <th>1867530</th>\n",
       "      <td>0x316b80</td>\n",
       "      <td>buy last 2 ticket remaining show sell #mixedfe...</td>\n",
       "      <td>0.807429</td>\n",
       "      <td>test</td>\n",
       "      <td>NaN</td>\n",
       "    </tr>\n",
       "    <tr>\n",
       "      <th>1867531</th>\n",
       "      <td>0x29d0cb</td>\n",
       "      <td>swear hard work gone pay one day😈💰💸</td>\n",
       "      <td>0.358749</td>\n",
       "      <td>test</td>\n",
       "      <td>NaN</td>\n",
       "    </tr>\n",
       "    <tr>\n",
       "      <th>1867532</th>\n",
       "      <td>0x2a6a4f</td>\n",
       "      <td>card left wasnt idea get parcel</td>\n",
       "      <td>0.485826</td>\n",
       "      <td>test</td>\n",
       "      <td>NaN</td>\n",
       "    </tr>\n",
       "    <tr>\n",
       "      <th>1867533</th>\n",
       "      <td>0x24faed</td>\n",
       "      <td>ah corporate life date using relative anachron...</td>\n",
       "      <td>0.820137</td>\n",
       "      <td>train</td>\n",
       "      <td>0.0</td>\n",
       "    </tr>\n",
       "    <tr>\n",
       "      <th>1867534</th>\n",
       "      <td>0x34be8c</td>\n",
       "      <td>blessed living #sundayvibes</td>\n",
       "      <td>0.350929</td>\n",
       "      <td>train</td>\n",
       "      <td>0.0</td>\n",
       "    </tr>\n",
       "  </tbody>\n",
       "</table>\n",
       "<p>1867535 rows × 5 columns</p>\n",
       "</div>"
      ],
      "text/plain": [
       "         tweet_id                                               text  \\\n",
       "0        0x376b20  people post add #snapchat must dehydrated cuz ...   \n",
       "1        0x2d5350  see trump dangerous #freepress around world #t...   \n",
       "2        0x28b412  confident obedience write knowing even ask (ph...   \n",
       "3        0x1cd5b0                            issa stalking tasha 😂😂😂   \n",
       "4        0x2de201  trust faith friend someone trust putting faith...   \n",
       "...           ...                                                ...   \n",
       "1867530  0x316b80  buy last 2 ticket remaining show sell #mixedfe...   \n",
       "1867531  0x29d0cb                swear hard work gone pay one day😈💰💸   \n",
       "1867532  0x2a6a4f                    card left wasnt idea get parcel   \n",
       "1867533  0x24faed  ah corporate life date using relative anachron...   \n",
       "1867534  0x34be8c                        blessed living #sundayvibes   \n",
       "\n",
       "            score identification  emotion  \n",
       "0        0.381232          train      1.0  \n",
       "1        0.422287          train      3.0  \n",
       "2        0.225806           test      NaN  \n",
       "3        0.366569          train      5.0  \n",
       "4        0.965787           test      NaN  \n",
       "...           ...            ...      ...  \n",
       "1867530  0.807429           test      NaN  \n",
       "1867531  0.358749           test      NaN  \n",
       "1867532  0.485826           test      NaN  \n",
       "1867533  0.820137          train      0.0  \n",
       "1867534  0.350929          train      0.0  \n",
       "\n",
       "[1867535 rows x 5 columns]"
      ]
     },
     "execution_count": 2,
     "metadata": {},
     "output_type": "execute_result"
    }
   ],
   "source": [
    "emotion_mapping = {'joy':0,\n",
    "                   'anticipation':1,\n",
    "                   'trust':2,\n",
    "                   'sadness':3,\n",
    "                   'disgust':4,\n",
    "                   'fear':5,\n",
    "                   'surprise':6,\n",
    "                   'anger':7\n",
    "                  }\n",
    "df_all['emotion'] = df_all['emotion'].map(emotion_mapping)\n",
    "df_all"
   ]
  },
  {
   "cell_type": "code",
   "execution_count": 3,
   "metadata": {},
   "outputs": [],
   "source": [
    "grouped_df = df_all.groupby('identification')\n",
    "test_data_all = grouped_df.get_group('test')\n",
    "train_data_all = grouped_df.get_group('train')\n",
    "\n",
    "train_data=test_data_all.dropna(subset=[\"text\"])\n",
    "test_data=train_data_all.dropna(subset=['text'])\n"
   ]
  },
  {
   "cell_type": "code",
   "execution_count": 4,
   "metadata": {},
   "outputs": [
    {
     "name": "stderr",
     "output_type": "stream",
     "text": [
      "C:\\Users\\nick2\\AppData\\Local\\Temp\\ipykernel_11808\\1798278108.py:1: SettingWithCopyWarning: \n",
      "A value is trying to be set on a copy of a slice from a DataFrame\n",
      "\n",
      "See the caveats in the documentation: https://pandas.pydata.org/pandas-docs/stable/user_guide/indexing.html#returning-a-view-versus-a-copy\n",
      "  train_data.drop(labels=['identification','score'], axis=1, inplace=True)\n",
      "C:\\Users\\nick2\\AppData\\Local\\Temp\\ipykernel_11808\\1798278108.py:2: SettingWithCopyWarning: \n",
      "A value is trying to be set on a copy of a slice from a DataFrame\n",
      "\n",
      "See the caveats in the documentation: https://pandas.pydata.org/pandas-docs/stable/user_guide/indexing.html#returning-a-view-versus-a-copy\n",
      "  test_data.drop(labels=['identification','score'], axis=1, inplace=True)\n"
     ]
    },
    {
     "data": {
      "text/html": [
       "<div>\n",
       "<style scoped>\n",
       "    .dataframe tbody tr th:only-of-type {\n",
       "        vertical-align: middle;\n",
       "    }\n",
       "\n",
       "    .dataframe tbody tr th {\n",
       "        vertical-align: top;\n",
       "    }\n",
       "\n",
       "    .dataframe thead th {\n",
       "        text-align: right;\n",
       "    }\n",
       "</style>\n",
       "<table border=\"1\" class=\"dataframe\">\n",
       "  <thead>\n",
       "    <tr style=\"text-align: right;\">\n",
       "      <th></th>\n",
       "      <th>tweet_id</th>\n",
       "      <th>text</th>\n",
       "      <th>emotion</th>\n",
       "    </tr>\n",
       "  </thead>\n",
       "  <tbody>\n",
       "    <tr>\n",
       "      <th>0</th>\n",
       "      <td>0x376b20</td>\n",
       "      <td>people post add #snapchat must dehydrated cuz ...</td>\n",
       "      <td>1.0</td>\n",
       "    </tr>\n",
       "    <tr>\n",
       "      <th>1</th>\n",
       "      <td>0x2d5350</td>\n",
       "      <td>see trump dangerous #freepress around world #t...</td>\n",
       "      <td>3.0</td>\n",
       "    </tr>\n",
       "    <tr>\n",
       "      <th>3</th>\n",
       "      <td>0x1cd5b0</td>\n",
       "      <td>issa stalking tasha 😂😂😂</td>\n",
       "      <td>5.0</td>\n",
       "    </tr>\n",
       "    <tr>\n",
       "      <th>5</th>\n",
       "      <td>0x1d755c</td>\n",
       "      <td>thx best time tonight stories! eartbreakingly ...</td>\n",
       "      <td>0.0</td>\n",
       "    </tr>\n",
       "    <tr>\n",
       "      <th>6</th>\n",
       "      <td>0x2c91a8</td>\n",
       "      <td>still waiting supply iscus</td>\n",
       "      <td>1.0</td>\n",
       "    </tr>\n",
       "    <tr>\n",
       "      <th>...</th>\n",
       "      <td>...</td>\n",
       "      <td>...</td>\n",
       "      <td>...</td>\n",
       "    </tr>\n",
       "    <tr>\n",
       "      <th>1867526</th>\n",
       "      <td>0x321566</td>\n",
       "      <td>im appy!!! #nowonder name show! #appy! 👏👏👏👏👏</td>\n",
       "      <td>0.0</td>\n",
       "    </tr>\n",
       "    <tr>\n",
       "      <th>1867527</th>\n",
       "      <td>0x38959e</td>\n",
       "      <td>every circumtance id like thankful almighty je...</td>\n",
       "      <td>0.0</td>\n",
       "    </tr>\n",
       "    <tr>\n",
       "      <th>1867528</th>\n",
       "      <td>0x2cbca6</td>\n",
       "      <td>there currently two girl walking around librar...</td>\n",
       "      <td>0.0</td>\n",
       "    </tr>\n",
       "    <tr>\n",
       "      <th>1867533</th>\n",
       "      <td>0x24faed</td>\n",
       "      <td>ah corporate life date using relative anachron...</td>\n",
       "      <td>0.0</td>\n",
       "    </tr>\n",
       "    <tr>\n",
       "      <th>1867534</th>\n",
       "      <td>0x34be8c</td>\n",
       "      <td>blessed living #sundayvibes</td>\n",
       "      <td>0.0</td>\n",
       "    </tr>\n",
       "  </tbody>\n",
       "</table>\n",
       "<p>1452595 rows × 3 columns</p>\n",
       "</div>"
      ],
      "text/plain": [
       "         tweet_id                                               text  emotion\n",
       "0        0x376b20  people post add #snapchat must dehydrated cuz ...      1.0\n",
       "1        0x2d5350  see trump dangerous #freepress around world #t...      3.0\n",
       "3        0x1cd5b0                            issa stalking tasha 😂😂😂      5.0\n",
       "5        0x1d755c  thx best time tonight stories! eartbreakingly ...      0.0\n",
       "6        0x2c91a8                         still waiting supply iscus      1.0\n",
       "...           ...                                                ...      ...\n",
       "1867526  0x321566       im appy!!! #nowonder name show! #appy! 👏👏👏👏👏      0.0\n",
       "1867527  0x38959e  every circumtance id like thankful almighty je...      0.0\n",
       "1867528  0x2cbca6  there currently two girl walking around librar...      0.0\n",
       "1867533  0x24faed  ah corporate life date using relative anachron...      0.0\n",
       "1867534  0x34be8c                        blessed living #sundayvibes      0.0\n",
       "\n",
       "[1452595 rows x 3 columns]"
      ]
     },
     "execution_count": 4,
     "metadata": {},
     "output_type": "execute_result"
    }
   ],
   "source": [
    "train_data.drop(labels=['identification','score'], axis=1, inplace=True)\n",
    "test_data.drop(labels=['identification','score'], axis=1, inplace=True)\n",
    "test_data"
   ]
  },
  {
   "cell_type": "code",
   "execution_count": 6,
   "metadata": {},
   "outputs": [
    {
     "name": "stdout",
     "output_type": "stream",
     "text": [
      "Using device: cuda\n"
     ]
    }
   ],
   "source": [
    "import torch\n",
    "device = torch.device(\"cuda\" if torch.cuda.is_available() else \"cpu\")\n",
    "print('Using device:', device)"
   ]
  },
  {
   "cell_type": "code",
   "execution_count": 7,
   "metadata": {},
   "outputs": [],
   "source": [
    "from transformers import BertTokenizer, BertForSequenceClassification\n",
    "from torch.utils.data import DataLoader, TensorDataset\n",
    "from sklearn.model_selection import train_test_split\n",
    "from sklearn.metrics import accuracy_score\n",
    "\n",
    "# 步驟 2: 數據預處理\n",
    "tokenizer = BertTokenizer.from_pretrained('bert-base-uncased')\n",
    "max_length = 64"
   ]
  },
  {
   "cell_type": "code",
   "execution_count": 8,
   "metadata": {},
   "outputs": [],
   "source": [
    "def tokenize_and_format(text_list):\n",
    "    tokenized_texts = []\n",
    "    attention_masks = []\n",
    "\n",
    "    for text in text_list:\n",
    "        encoded_dict = tokenizer.encode_plus(\n",
    "            text,\n",
    "            add_special_tokens=True,\n",
    "            max_length=max_length,\n",
    "            truncation=True,\n",
    "            padding='max_length',\n",
    "            return_attention_mask=True,\n",
    "            return_tensors='pt',\n",
    "        )\n",
    "        tokenized_texts.append(encoded_dict['input_ids'])\n",
    "        attention_masks.append(encoded_dict['attention_mask'])\n",
    "\n",
    "    return tokenized_texts, attention_masks"
   ]
  },
  {
   "cell_type": "code",
   "execution_count": 9,
   "metadata": {},
   "outputs": [],
   "source": [
    "train_tokenized_texts, train_attention_masks = tokenize_and_format(train_data['text'])\n",
    "test_tokenized_texts, test_attention_masks = tokenize_and_format(test_data['text'])\n",
    "train_labels = torch.tensor(train_data['emotion'].values)\n",
    "test_labels = torch.tensor(test_data['emotion'].values)"
   ]
  },
  {
   "cell_type": "code",
   "execution_count": 10,
   "metadata": {},
   "outputs": [],
   "source": [
    "train_dataset = TensorDataset(torch.cat(train_tokenized_texts, dim=0), torch.cat(train_attention_masks, dim=0), train_labels)\n",
    "test_dataset = TensorDataset(torch.cat(test_tokenized_texts, dim=0), torch.cat(test_attention_masks, dim=0), test_labels)"
   ]
  },
  {
   "cell_type": "code",
   "execution_count": 11,
   "metadata": {},
   "outputs": [
    {
     "name": "stderr",
     "output_type": "stream",
     "text": [
      "Some weights of BertForSequenceClassification were not initialized from the model checkpoint at bert-base-uncased and are newly initialized: ['classifier.weight', 'classifier.bias']\n",
      "You should probably TRAIN this model on a down-stream task to be able to use it for predictions and inference.\n"
     ]
    },
    {
     "data": {
      "text/plain": [
       "BertForSequenceClassification(\n",
       "  (bert): BertModel(\n",
       "    (embeddings): BertEmbeddings(\n",
       "      (word_embeddings): Embedding(30522, 768, padding_idx=0)\n",
       "      (position_embeddings): Embedding(512, 768)\n",
       "      (token_type_embeddings): Embedding(2, 768)\n",
       "      (LayerNorm): LayerNorm((768,), eps=1e-12, elementwise_affine=True)\n",
       "      (dropout): Dropout(p=0.1, inplace=False)\n",
       "    )\n",
       "    (encoder): BertEncoder(\n",
       "      (layer): ModuleList(\n",
       "        (0-11): 12 x BertLayer(\n",
       "          (attention): BertAttention(\n",
       "            (self): BertSelfAttention(\n",
       "              (query): Linear(in_features=768, out_features=768, bias=True)\n",
       "              (key): Linear(in_features=768, out_features=768, bias=True)\n",
       "              (value): Linear(in_features=768, out_features=768, bias=True)\n",
       "              (dropout): Dropout(p=0.1, inplace=False)\n",
       "            )\n",
       "            (output): BertSelfOutput(\n",
       "              (dense): Linear(in_features=768, out_features=768, bias=True)\n",
       "              (LayerNorm): LayerNorm((768,), eps=1e-12, elementwise_affine=True)\n",
       "              (dropout): Dropout(p=0.1, inplace=False)\n",
       "            )\n",
       "          )\n",
       "          (intermediate): BertIntermediate(\n",
       "            (dense): Linear(in_features=768, out_features=3072, bias=True)\n",
       "            (intermediate_act_fn): GELUActivation()\n",
       "          )\n",
       "          (output): BertOutput(\n",
       "            (dense): Linear(in_features=3072, out_features=768, bias=True)\n",
       "            (LayerNorm): LayerNorm((768,), eps=1e-12, elementwise_affine=True)\n",
       "            (dropout): Dropout(p=0.1, inplace=False)\n",
       "          )\n",
       "        )\n",
       "      )\n",
       "    )\n",
       "    (pooler): BertPooler(\n",
       "      (dense): Linear(in_features=768, out_features=768, bias=True)\n",
       "      (activation): Tanh()\n",
       "    )\n",
       "  )\n",
       "  (dropout): Dropout(p=0.1, inplace=False)\n",
       "  (classifier): Linear(in_features=768, out_features=8, bias=True)\n",
       ")"
      ]
     },
     "execution_count": 11,
     "metadata": {},
     "output_type": "execute_result"
    }
   ],
   "source": [
    "# 創建 DataLoader\n",
    "train_dataloader = DataLoader(train_dataset, batch_size=8, shuffle=True)\n",
    "test_dataloader = DataLoader(test_dataset, batch_size=8, shuffle=False)\n",
    "\n",
    "# 加載模型\n",
    "model = BertForSequenceClassification.from_pretrained('bert-base-uncased', num_labels=8)\n",
    "model.to(device)"
   ]
  },
  {
   "cell_type": "code",
   "execution_count": null,
   "metadata": {},
   "outputs": [],
   "source": [
    "import torch\n",
    "# 設置優化器\n",
    "optimizer = torch.optim.AdamW(model.parameters(), lr=2e-5)\n",
    "\n",
    "# 訓練模型\n",
    "epochs = 3\n",
    "for epoch in range(epochs):\n",
    "    model.train()\n",
    "    total_loss = 0\n",
    "    for step, batch in enumerate(train_dataloader):\n",
    "        # 將數據移到 GPU\n",
    "        batch = tuple(t.to(device) for t in batch)\n",
    "        b_input_ids, b_input_mask, b_labels = batch\n",
    "\n",
    "        optimizer.zero_grad()\n",
    "        outputs = model(b_input_ids, token_type_ids=None, attention_mask=b_input_mask, labels=b_labels)\n",
    "        loss = outputs.loss\n",
    "        total_loss += loss.item()\n",
    "        loss.backward()\n",
    "        optimizer.step()\n",
    "\n",
    "        if step % 40 == 0 and step != 0:\n",
    "            print('Batch {:>5,} of {:>5,}. Loss: {:>5,}'.format(step, len(train_dataloader), loss.item()))\n",
    "\n",
    "    print('Epoch {:>5,} Average training loss: {:>5,}'.format(epoch, total_loss / len(train_dataloader)))\n",
    "\n",
    "print(\"Training completed.\")"
   ]
  }
 ],
 "metadata": {
  "kernelspec": {
   "display_name": "base",
   "language": "python",
   "name": "python3"
  },
  "language_info": {
   "codemirror_mode": {
    "name": "ipython",
    "version": 3
   },
   "file_extension": ".py",
   "mimetype": "text/x-python",
   "name": "python",
   "nbconvert_exporter": "python",
   "pygments_lexer": "ipython3",
   "version": "3.11.5"
  }
 },
 "nbformat": 4,
 "nbformat_minor": 2
}
